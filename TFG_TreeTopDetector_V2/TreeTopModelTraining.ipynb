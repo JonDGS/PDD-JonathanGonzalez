{
 "cells": [
  {
   "cell_type": "code",
   "execution_count": 1,
   "id": "6882c7ee-3dfb-4585-b5a0-4e5513c32ce4",
   "metadata": {},
   "outputs": [
    {
     "name": "stdout",
     "output_type": "stream",
     "text": [
      "Tue Apr 29 12:21:25 2025       \n",
      "+-----------------------------------------------------------------------------------------+\n",
      "| NVIDIA-SMI 550.127.05             Driver Version: 550.127.05     CUDA Version: 12.4     |\n",
      "|-----------------------------------------+------------------------+----------------------+\n",
      "| GPU  Name                 Persistence-M | Bus-Id          Disp.A | Volatile Uncorr. ECC |\n",
      "| Fan  Temp   Perf          Pwr:Usage/Cap |           Memory-Usage | GPU-Util  Compute M. |\n",
      "|                                         |                        |               MIG M. |\n",
      "|=========================================+========================+======================|\n",
      "|   0  NVIDIA GeForce RTX 2080        Off |   00000000:01:00.0 Off |                  N/A |\n",
      "|  0%   51C    P8             19W /  260W |       3MiB /   8192MiB |      0%      Default |\n",
      "|                                         |                        |                  N/A |\n",
      "+-----------------------------------------+------------------------+----------------------+\n",
      "                                                                                         \n",
      "+-----------------------------------------------------------------------------------------+\n",
      "| Processes:                                                                              |\n",
      "|  GPU   GI   CI        PID   Type   Process name                              GPU Memory |\n",
      "|        ID   ID                                                               Usage      |\n",
      "|=========================================================================================|\n",
      "|  No running processes found                                                             |\n",
      "+-----------------------------------------------------------------------------------------+\n"
     ]
    }
   ],
   "source": [
    "!nvidia-smi"
   ]
  },
  {
   "cell_type": "code",
   "execution_count": 2,
   "id": "95e0635d-1764-4e22-b194-ca02f8cadb3a",
   "metadata": {},
   "outputs": [
    {
     "name": "stdout",
     "output_type": "stream",
     "text": [
      "Looking in indexes: https://pypi.org/simple, https://pypi.ngc.nvidia.com\n",
      "Requirement already satisfied: pip in /home/jovyan/work/PDD-JonathanGonzalez/.venv/lib/python3.11/site-packages (25.1)\n",
      "Note: you may need to restart the kernel to use updated packages.\n"
     ]
    }
   ],
   "source": [
    "pip install --upgrade pip"
   ]
  },
  {
   "cell_type": "code",
   "execution_count": 3,
   "id": "1408f2f9-8669-4165-9a35-f8e888b66508",
   "metadata": {},
   "outputs": [
    {
     "name": "stdout",
     "output_type": "stream",
     "text": [
      "Looking in indexes: https://pypi.org/simple, https://pypi.ngc.nvidia.com\n",
      "Requirement already satisfied: ultralytics in /home/jovyan/work/PDD-JonathanGonzalez/.venv/lib/python3.11/site-packages (from -r requirements.txt (line 1)) (8.3.120)\n",
      "Requirement already satisfied: opencv-python in /home/jovyan/work/PDD-JonathanGonzalez/.venv/lib/python3.11/site-packages (from -r requirements.txt (line 2)) (4.11.0.86)\n",
      "Requirement already satisfied: tk in /home/jovyan/work/PDD-JonathanGonzalez/.venv/lib/python3.11/site-packages (from -r requirements.txt (line 3)) (0.1.0)\n",
      "Requirement already satisfied: numpy>=1.23.0 in /home/jovyan/work/PDD-JonathanGonzalez/.venv/lib/python3.11/site-packages (from ultralytics->-r requirements.txt (line 1)) (2.2.5)\n",
      "Requirement already satisfied: matplotlib>=3.3.0 in /home/jovyan/work/PDD-JonathanGonzalez/.venv/lib/python3.11/site-packages (from ultralytics->-r requirements.txt (line 1)) (3.10.1)\n",
      "Requirement already satisfied: pillow>=7.1.2 in /home/jovyan/work/PDD-JonathanGonzalez/.venv/lib/python3.11/site-packages (from ultralytics->-r requirements.txt (line 1)) (11.2.1)\n",
      "Requirement already satisfied: pyyaml>=5.3.1 in /home/jovyan/work/PDD-JonathanGonzalez/.venv/lib/python3.11/site-packages (from ultralytics->-r requirements.txt (line 1)) (6.0.2)\n",
      "Requirement already satisfied: requests>=2.23.0 in /home/jovyan/work/PDD-JonathanGonzalez/.venv/lib/python3.11/site-packages (from ultralytics->-r requirements.txt (line 1)) (2.32.3)\n",
      "Requirement already satisfied: scipy>=1.4.1 in /home/jovyan/work/PDD-JonathanGonzalez/.venv/lib/python3.11/site-packages (from ultralytics->-r requirements.txt (line 1)) (1.15.2)\n",
      "Requirement already satisfied: torch>=1.8.0 in /home/jovyan/work/PDD-JonathanGonzalez/.venv/lib/python3.11/site-packages (from ultralytics->-r requirements.txt (line 1)) (2.7.0)\n",
      "Requirement already satisfied: torchvision>=0.9.0 in /home/jovyan/work/PDD-JonathanGonzalez/.venv/lib/python3.11/site-packages (from ultralytics->-r requirements.txt (line 1)) (0.22.0)\n",
      "Requirement already satisfied: tqdm>=4.64.0 in /home/jovyan/work/PDD-JonathanGonzalez/.venv/lib/python3.11/site-packages (from ultralytics->-r requirements.txt (line 1)) (4.67.1)\n",
      "Requirement already satisfied: psutil in /home/jovyan/work/PDD-JonathanGonzalez/.venv/lib/python3.11/site-packages (from ultralytics->-r requirements.txt (line 1)) (7.0.0)\n",
      "Requirement already satisfied: py-cpuinfo in /home/jovyan/work/PDD-JonathanGonzalez/.venv/lib/python3.11/site-packages (from ultralytics->-r requirements.txt (line 1)) (9.0.0)\n",
      "Requirement already satisfied: pandas>=1.1.4 in /home/jovyan/work/PDD-JonathanGonzalez/.venv/lib/python3.11/site-packages (from ultralytics->-r requirements.txt (line 1)) (2.2.3)\n",
      "Requirement already satisfied: seaborn>=0.11.0 in /home/jovyan/work/PDD-JonathanGonzalez/.venv/lib/python3.11/site-packages (from ultralytics->-r requirements.txt (line 1)) (0.13.2)\n",
      "Requirement already satisfied: ultralytics-thop>=2.0.0 in /home/jovyan/work/PDD-JonathanGonzalez/.venv/lib/python3.11/site-packages (from ultralytics->-r requirements.txt (line 1)) (2.0.14)\n",
      "Requirement already satisfied: contourpy>=1.0.1 in /home/jovyan/work/PDD-JonathanGonzalez/.venv/lib/python3.11/site-packages (from matplotlib>=3.3.0->ultralytics->-r requirements.txt (line 1)) (1.3.2)\n",
      "Requirement already satisfied: cycler>=0.10 in /home/jovyan/work/PDD-JonathanGonzalez/.venv/lib/python3.11/site-packages (from matplotlib>=3.3.0->ultralytics->-r requirements.txt (line 1)) (0.12.1)\n",
      "Requirement already satisfied: fonttools>=4.22.0 in /home/jovyan/work/PDD-JonathanGonzalez/.venv/lib/python3.11/site-packages (from matplotlib>=3.3.0->ultralytics->-r requirements.txt (line 1)) (4.57.0)\n",
      "Requirement already satisfied: kiwisolver>=1.3.1 in /home/jovyan/work/PDD-JonathanGonzalez/.venv/lib/python3.11/site-packages (from matplotlib>=3.3.0->ultralytics->-r requirements.txt (line 1)) (1.4.8)\n",
      "Requirement already satisfied: packaging>=20.0 in /home/jovyan/work/PDD-JonathanGonzalez/.venv/lib/python3.11/site-packages (from matplotlib>=3.3.0->ultralytics->-r requirements.txt (line 1)) (25.0)\n",
      "Requirement already satisfied: pyparsing>=2.3.1 in /home/jovyan/work/PDD-JonathanGonzalez/.venv/lib/python3.11/site-packages (from matplotlib>=3.3.0->ultralytics->-r requirements.txt (line 1)) (3.2.3)\n",
      "Requirement already satisfied: python-dateutil>=2.7 in /home/jovyan/work/PDD-JonathanGonzalez/.venv/lib/python3.11/site-packages (from matplotlib>=3.3.0->ultralytics->-r requirements.txt (line 1)) (2.9.0.post0)\n",
      "Requirement already satisfied: pytz>=2020.1 in /home/jovyan/work/PDD-JonathanGonzalez/.venv/lib/python3.11/site-packages (from pandas>=1.1.4->ultralytics->-r requirements.txt (line 1)) (2025.2)\n",
      "Requirement already satisfied: tzdata>=2022.7 in /home/jovyan/work/PDD-JonathanGonzalez/.venv/lib/python3.11/site-packages (from pandas>=1.1.4->ultralytics->-r requirements.txt (line 1)) (2025.2)\n",
      "Requirement already satisfied: six>=1.5 in /home/jovyan/work/PDD-JonathanGonzalez/.venv/lib/python3.11/site-packages (from python-dateutil>=2.7->matplotlib>=3.3.0->ultralytics->-r requirements.txt (line 1)) (1.17.0)\n",
      "Requirement already satisfied: charset-normalizer<4,>=2 in /home/jovyan/work/PDD-JonathanGonzalez/.venv/lib/python3.11/site-packages (from requests>=2.23.0->ultralytics->-r requirements.txt (line 1)) (3.4.1)\n",
      "Requirement already satisfied: idna<4,>=2.5 in /home/jovyan/work/PDD-JonathanGonzalez/.venv/lib/python3.11/site-packages (from requests>=2.23.0->ultralytics->-r requirements.txt (line 1)) (3.10)\n",
      "Requirement already satisfied: urllib3<3,>=1.21.1 in /home/jovyan/work/PDD-JonathanGonzalez/.venv/lib/python3.11/site-packages (from requests>=2.23.0->ultralytics->-r requirements.txt (line 1)) (2.4.0)\n",
      "Requirement already satisfied: certifi>=2017.4.17 in /home/jovyan/work/PDD-JonathanGonzalez/.venv/lib/python3.11/site-packages (from requests>=2.23.0->ultralytics->-r requirements.txt (line 1)) (2025.4.26)\n",
      "Requirement already satisfied: filelock in /home/jovyan/work/PDD-JonathanGonzalez/.venv/lib/python3.11/site-packages (from torch>=1.8.0->ultralytics->-r requirements.txt (line 1)) (3.18.0)\n",
      "Requirement already satisfied: typing-extensions>=4.10.0 in /home/jovyan/work/PDD-JonathanGonzalez/.venv/lib/python3.11/site-packages (from torch>=1.8.0->ultralytics->-r requirements.txt (line 1)) (4.13.2)\n",
      "Requirement already satisfied: sympy>=1.13.3 in /home/jovyan/work/PDD-JonathanGonzalez/.venv/lib/python3.11/site-packages (from torch>=1.8.0->ultralytics->-r requirements.txt (line 1)) (1.14.0)\n",
      "Requirement already satisfied: networkx in /home/jovyan/work/PDD-JonathanGonzalez/.venv/lib/python3.11/site-packages (from torch>=1.8.0->ultralytics->-r requirements.txt (line 1)) (3.4.2)\n",
      "Requirement already satisfied: jinja2 in /home/jovyan/work/PDD-JonathanGonzalez/.venv/lib/python3.11/site-packages (from torch>=1.8.0->ultralytics->-r requirements.txt (line 1)) (3.1.6)\n",
      "Requirement already satisfied: fsspec in /home/jovyan/work/PDD-JonathanGonzalez/.venv/lib/python3.11/site-packages (from torch>=1.8.0->ultralytics->-r requirements.txt (line 1)) (2025.3.2)\n",
      "Requirement already satisfied: nvidia-cuda-nvrtc-cu12==12.6.77 in /home/jovyan/work/PDD-JonathanGonzalez/.venv/lib/python3.11/site-packages (from torch>=1.8.0->ultralytics->-r requirements.txt (line 1)) (12.6.77)\n",
      "Requirement already satisfied: nvidia-cuda-runtime-cu12==12.6.77 in /home/jovyan/work/PDD-JonathanGonzalez/.venv/lib/python3.11/site-packages (from torch>=1.8.0->ultralytics->-r requirements.txt (line 1)) (12.6.77)\n",
      "Requirement already satisfied: nvidia-cuda-cupti-cu12==12.6.80 in /home/jovyan/work/PDD-JonathanGonzalez/.venv/lib/python3.11/site-packages (from torch>=1.8.0->ultralytics->-r requirements.txt (line 1)) (12.6.80)\n",
      "Requirement already satisfied: nvidia-cudnn-cu12==9.5.1.17 in /home/jovyan/work/PDD-JonathanGonzalez/.venv/lib/python3.11/site-packages (from torch>=1.8.0->ultralytics->-r requirements.txt (line 1)) (9.5.1.17)\n",
      "Requirement already satisfied: nvidia-cublas-cu12==12.6.4.1 in /home/jovyan/work/PDD-JonathanGonzalez/.venv/lib/python3.11/site-packages (from torch>=1.8.0->ultralytics->-r requirements.txt (line 1)) (12.6.4.1)\n",
      "Requirement already satisfied: nvidia-cufft-cu12==11.3.0.4 in /home/jovyan/work/PDD-JonathanGonzalez/.venv/lib/python3.11/site-packages (from torch>=1.8.0->ultralytics->-r requirements.txt (line 1)) (11.3.0.4)\n",
      "Requirement already satisfied: nvidia-curand-cu12==10.3.7.77 in /home/jovyan/work/PDD-JonathanGonzalez/.venv/lib/python3.11/site-packages (from torch>=1.8.0->ultralytics->-r requirements.txt (line 1)) (10.3.7.77)\n",
      "Requirement already satisfied: nvidia-cusolver-cu12==11.7.1.2 in /home/jovyan/work/PDD-JonathanGonzalez/.venv/lib/python3.11/site-packages (from torch>=1.8.0->ultralytics->-r requirements.txt (line 1)) (11.7.1.2)\n",
      "Requirement already satisfied: nvidia-cusparse-cu12==12.5.4.2 in /home/jovyan/work/PDD-JonathanGonzalez/.venv/lib/python3.11/site-packages (from torch>=1.8.0->ultralytics->-r requirements.txt (line 1)) (12.5.4.2)\n",
      "Requirement already satisfied: nvidia-cusparselt-cu12==0.6.3 in /home/jovyan/work/PDD-JonathanGonzalez/.venv/lib/python3.11/site-packages (from torch>=1.8.0->ultralytics->-r requirements.txt (line 1)) (0.6.3)\n",
      "Requirement already satisfied: nvidia-nccl-cu12==2.26.2 in /home/jovyan/work/PDD-JonathanGonzalez/.venv/lib/python3.11/site-packages (from torch>=1.8.0->ultralytics->-r requirements.txt (line 1)) (2.26.2)\n",
      "Requirement already satisfied: nvidia-nvtx-cu12==12.6.77 in /home/jovyan/work/PDD-JonathanGonzalez/.venv/lib/python3.11/site-packages (from torch>=1.8.0->ultralytics->-r requirements.txt (line 1)) (12.6.77)\n",
      "Requirement already satisfied: nvidia-nvjitlink-cu12==12.6.85 in /home/jovyan/work/PDD-JonathanGonzalez/.venv/lib/python3.11/site-packages (from torch>=1.8.0->ultralytics->-r requirements.txt (line 1)) (12.6.85)\n",
      "Requirement already satisfied: nvidia-cufile-cu12==1.11.1.6 in /home/jovyan/work/PDD-JonathanGonzalez/.venv/lib/python3.11/site-packages (from torch>=1.8.0->ultralytics->-r requirements.txt (line 1)) (1.11.1.6)\n",
      "Requirement already satisfied: triton==3.3.0 in /home/jovyan/work/PDD-JonathanGonzalez/.venv/lib/python3.11/site-packages (from torch>=1.8.0->ultralytics->-r requirements.txt (line 1)) (3.3.0)\n",
      "Requirement already satisfied: setuptools>=40.8.0 in /home/jovyan/work/PDD-JonathanGonzalez/.venv/lib/python3.11/site-packages (from triton==3.3.0->torch>=1.8.0->ultralytics->-r requirements.txt (line 1)) (65.5.0)\n",
      "Requirement already satisfied: mpmath<1.4,>=1.1.0 in /home/jovyan/work/PDD-JonathanGonzalez/.venv/lib/python3.11/site-packages (from sympy>=1.13.3->torch>=1.8.0->ultralytics->-r requirements.txt (line 1)) (1.3.0)\n",
      "Requirement already satisfied: MarkupSafe>=2.0 in /home/jovyan/work/PDD-JonathanGonzalez/.venv/lib/python3.11/site-packages (from jinja2->torch>=1.8.0->ultralytics->-r requirements.txt (line 1)) (3.0.2)\n",
      "Note: you may need to restart the kernel to use updated packages.\n"
     ]
    }
   ],
   "source": [
    "pip install -r requirements.txt"
   ]
  },
  {
   "cell_type": "code",
   "execution_count": 4,
   "id": "a0d2b511-513e-4199-84f0-0646ef0366f6",
   "metadata": {},
   "outputs": [
    {
     "name": "stdout",
     "output_type": "stream",
     "text": [
      "Looking in indexes: https://pypi.org/simple, https://pypi.ngc.nvidia.com\n",
      "Collecting onnx\n",
      "  Downloading onnx-1.17.0-cp311-cp311-manylinux_2_17_x86_64.manylinux2014_x86_64.whl.metadata (16 kB)\n",
      "Collecting onnxruntime-gpu\n",
      "  Downloading onnxruntime_gpu-1.21.1-cp311-cp311-manylinux_2_27_x86_64.manylinux_2_28_x86_64.whl.metadata (4.8 kB)\n",
      "Requirement already satisfied: numpy>=1.20 in /home/jovyan/work/PDD-JonathanGonzalez/.venv/lib/python3.11/site-packages (from onnx) (2.2.5)\n",
      "Collecting protobuf>=3.20.2 (from onnx)\n",
      "  Downloading protobuf-6.30.2-cp39-abi3-manylinux2014_x86_64.whl.metadata (593 bytes)\n",
      "Collecting coloredlogs (from onnxruntime-gpu)\n",
      "  Downloading coloredlogs-15.0.1-py2.py3-none-any.whl.metadata (12 kB)\n",
      "Collecting flatbuffers (from onnxruntime-gpu)\n",
      "  Downloading flatbuffers-25.2.10-py2.py3-none-any.whl.metadata (875 bytes)\n",
      "Requirement already satisfied: packaging in /home/jovyan/work/PDD-JonathanGonzalez/.venv/lib/python3.11/site-packages (from onnxruntime-gpu) (25.0)\n",
      "Requirement already satisfied: sympy in /home/jovyan/work/PDD-JonathanGonzalez/.venv/lib/python3.11/site-packages (from onnxruntime-gpu) (1.14.0)\n",
      "Collecting humanfriendly>=9.1 (from coloredlogs->onnxruntime-gpu)\n",
      "  Downloading humanfriendly-10.0-py2.py3-none-any.whl.metadata (9.2 kB)\n",
      "Requirement already satisfied: mpmath<1.4,>=1.1.0 in /home/jovyan/work/PDD-JonathanGonzalez/.venv/lib/python3.11/site-packages (from sympy->onnxruntime-gpu) (1.3.0)\n",
      "Downloading onnx-1.17.0-cp311-cp311-manylinux_2_17_x86_64.manylinux2014_x86_64.whl (16.0 MB)\n",
      "\u001b[2K   \u001b[90m━━━━━━━━━━━━━━━━━━━━━━━━━━━━━━━━━━━━━━━━\u001b[0m \u001b[32m16.0/16.0 MB\u001b[0m \u001b[31m36.6 MB/s\u001b[0m eta \u001b[36m0:00:00\u001b[0m \u001b[36m0:00:01\u001b[0m\n",
      "\u001b[?25hDownloading onnxruntime_gpu-1.21.1-cp311-cp311-manylinux_2_27_x86_64.manylinux_2_28_x86_64.whl (280.8 MB)\n",
      "\u001b[2K   \u001b[90m━━━━━━━━━━━━━━━━━━━━━━━━━━━━━━━━━━━━━━━━\u001b[0m \u001b[32m280.8/280.8 MB\u001b[0m \u001b[31m54.3 MB/s\u001b[0m eta \u001b[36m0:00:00\u001b[0m00:01\u001b[0m00:01\u001b[0m\n",
      "\u001b[?25hDownloading protobuf-6.30.2-cp39-abi3-manylinux2014_x86_64.whl (316 kB)\n",
      "Downloading coloredlogs-15.0.1-py2.py3-none-any.whl (46 kB)\n",
      "Downloading humanfriendly-10.0-py2.py3-none-any.whl (86 kB)\n",
      "Downloading flatbuffers-25.2.10-py2.py3-none-any.whl (30 kB)\n",
      "Installing collected packages: flatbuffers, protobuf, humanfriendly, onnx, coloredlogs, onnxruntime-gpu\n",
      "\u001b[2K   \u001b[90m━━━━━━━━━━━━━━━━━━━━━━━━━━━━━━━━━━━━━━━━\u001b[0m \u001b[32m6/6\u001b[0m [onnxruntime-gpu] [onnxruntime-gpu]\n",
      "\u001b[1A\u001b[2KSuccessfully installed coloredlogs-15.0.1 flatbuffers-25.2.10 humanfriendly-10.0 onnx-1.17.0 onnxruntime-gpu-1.21.1 protobuf-6.30.2\n",
      "Note: you may need to restart the kernel to use updated packages.\n"
     ]
    }
   ],
   "source": [
    "pip install onnx onnxruntime-gpu"
   ]
  },
  {
   "cell_type": "code",
   "execution_count": 1,
   "id": "079e2cd6-8f0d-40c9-8b14-2a3702c7f3f9",
   "metadata": {},
   "outputs": [],
   "source": [
    "from ultralytics import YOLO\n",
    "import os"
   ]
  },
  {
   "cell_type": "code",
   "execution_count": 2,
   "id": "ea4c817d-c887-4f4d-b51f-02175b7cbc7e",
   "metadata": {},
   "outputs": [],
   "source": [
    "# model = YOLO(\"yolov8m.yaml\")\n",
    "model = YOLO(\"yolov8n.yaml\")"
   ]
  },
  {
   "cell_type": "code",
   "execution_count": null,
   "id": "d006c2ed-98f8-4b34-8533-6bad9591f545",
   "metadata": {},
   "outputs": [
    {
     "name": "stdout",
     "output_type": "stream",
     "text": [
      "New https://pypi.org/project/ultralytics/8.3.120 available 😃 Update with 'pip install -U ultralytics'\n",
      "WARNING ⚠️ 'crop_fraction' is deprecated and will be removed in in the future.\n",
      "Ultralytics 8.3.119 🚀 Python-3.11.8 torch-2.2.2+cu121 CUDA:0 (NVIDIA GeForce RTX 2080, 7967MiB)\n",
      "\u001b[34m\u001b[1mengine/trainer: \u001b[0mtask=detect, mode=train, model=yolov8n.yaml, data=/home/jovyan/work/PDD-JonathanGonzalez/TFG_TreeTopDetector_V2/TreeCountingDataset/data.yaml, epochs=20, time=None, patience=100, batch=0.7, imgsz=640, save=True, save_period=-1, cache=False, device=None, workers=1, project=None, name=train2, exist_ok=False, pretrained=True, optimizer=auto, verbose=True, seed=0, deterministic=True, single_cls=False, rect=False, cos_lr=False, close_mosaic=10, resume=False, amp=True, fraction=1.0, profile=False, freeze=None, multi_scale=False, overlap_mask=True, mask_ratio=4, dropout=0.0, val=True, split=val, save_json=False, conf=None, iou=0.7, max_det=300, half=False, dnn=False, plots=True, source=None, vid_stride=1, stream_buffer=False, visualize=False, augment=False, agnostic_nms=False, classes=None, retina_masks=False, embed=None, show=False, save_frames=False, save_txt=False, save_conf=False, save_crop=False, show_labels=True, show_conf=True, show_boxes=True, line_width=None, format=torchscript, keras=False, optimize=False, int8=False, dynamic=False, simplify=True, opset=None, workspace=None, nms=False, lr0=0.01, lrf=0.01, momentum=0.937, weight_decay=0.0005, warmup_epochs=3.0, warmup_momentum=0.8, warmup_bias_lr=0.1, box=7.5, cls=0.5, dfl=1.5, pose=12.0, kobj=1.0, nbs=64, hsv_h=0.2, hsv_s=0.2, hsv_v=0.2, degrees=0, translate=0.2, scale=0.5, shear=0, perspective=0, flipud=0.2, fliplr=0.2, bgr=0.5, mosaic=0.5, mixup=0.5, cutmix=0.0, copy_paste=0.2, copy_paste_mode=flip, auto_augment=randaugment, erasing=0.4, cfg=None, tracker=botsort.yaml, save_dir=runs/detect/train2\n",
      "\n",
      "                   from  n    params  module                                       arguments                     \n",
      "  0                  -1  1       464  ultralytics.nn.modules.conv.Conv             [3, 16, 3, 2]                 \n",
      "  1                  -1  1      4672  ultralytics.nn.modules.conv.Conv             [16, 32, 3, 2]                \n",
      "  2                  -1  1      7360  ultralytics.nn.modules.block.C2f             [32, 32, 1, True]             \n",
      "  3                  -1  1     18560  ultralytics.nn.modules.conv.Conv             [32, 64, 3, 2]                \n",
      "  4                  -1  2     49664  ultralytics.nn.modules.block.C2f             [64, 64, 2, True]             \n",
      "  5                  -1  1     73984  ultralytics.nn.modules.conv.Conv             [64, 128, 3, 2]               \n",
      "  6                  -1  2    197632  ultralytics.nn.modules.block.C2f             [128, 128, 2, True]           \n",
      "  7                  -1  1    295424  ultralytics.nn.modules.conv.Conv             [128, 256, 3, 2]              \n",
      "  8                  -1  1    460288  ultralytics.nn.modules.block.C2f             [256, 256, 1, True]           \n",
      "  9                  -1  1    164608  ultralytics.nn.modules.block.SPPF            [256, 256, 5]                 \n",
      " 10                  -1  1         0  torch.nn.modules.upsampling.Upsample         [None, 2, 'nearest']          \n",
      " 11             [-1, 6]  1         0  ultralytics.nn.modules.conv.Concat           [1]                           \n",
      " 12                  -1  1    148224  ultralytics.nn.modules.block.C2f             [384, 128, 1]                 \n",
      " 13                  -1  1         0  torch.nn.modules.upsampling.Upsample         [None, 2, 'nearest']          \n",
      " 14             [-1, 4]  1         0  ultralytics.nn.modules.conv.Concat           [1]                           \n",
      " 15                  -1  1     37248  ultralytics.nn.modules.block.C2f             [192, 64, 1]                  \n",
      " 16                  -1  1     36992  ultralytics.nn.modules.conv.Conv             [64, 64, 3, 2]                \n",
      " 17            [-1, 12]  1         0  ultralytics.nn.modules.conv.Concat           [1]                           \n",
      " 18                  -1  1    123648  ultralytics.nn.modules.block.C2f             [192, 128, 1]                 \n",
      " 19                  -1  1    147712  ultralytics.nn.modules.conv.Conv             [128, 128, 3, 2]              \n",
      " 20             [-1, 9]  1         0  ultralytics.nn.modules.conv.Concat           [1]                           \n",
      " 21                  -1  1    493056  ultralytics.nn.modules.block.C2f             [384, 256, 1]                 \n",
      " 22        [15, 18, 21]  1    751507  ultralytics.nn.modules.head.Detect           [1, [64, 128, 256]]           \n",
      "YOLOv8n summary: 129 layers, 3,011,043 parameters, 3,011,027 gradients, 8.2 GFLOPs\n",
      "\n",
      "Freezing layer 'model.22.dfl.conv.weight'\n",
      "\u001b[34m\u001b[1mAMP: \u001b[0mrunning Automatic Mixed Precision (AMP) checks...\n",
      "\u001b[34m\u001b[1mAMP: \u001b[0mchecks passed ✅\n",
      "\u001b[34m\u001b[1mtrain: \u001b[0mFast image access ✅ (ping: 0.0±0.0 ms, read: 1246.8±174.9 MB/s, size: 80.2 KB)\n"
     ]
    },
    {
     "name": "stderr",
     "output_type": "stream",
     "text": [
      "\u001b[34m\u001b[1mtrain: \u001b[0mScanning /home/jovyan/work/PDD-JonathanGonzalez/TFG_TreeTopDetector_V2/TreeCountingDataset/train/labels.cache... 64 images, 0 backgrounds, 0 corrupt: 100%|██████████| 64/64 [00:00<?, ?it/s]"
     ]
    },
    {
     "name": "stdout",
     "output_type": "stream",
     "text": [
      "\u001b[34m\u001b[1mAutoBatch: \u001b[0mComputing optimal batch size for imgsz=640 at 70.0% CUDA memory utilization.\n",
      "\u001b[34m\u001b[1mAutoBatch: \u001b[0mCUDA:0 (NVIDIA GeForce RTX 2080) 7.78G total, 0.35G reserved, 0.08G allocated, 7.35G free\n",
      "      Params      GFLOPs  GPU_mem (GB)  forward (ms) backward (ms)                   input                  output\n"
     ]
    },
    {
     "name": "stderr",
     "output_type": "stream",
     "text": [
      "\n"
     ]
    },
    {
     "name": "stdout",
     "output_type": "stream",
     "text": [
      "     3011043       8.194         0.591         18.22         20.42        (1, 3, 640, 640)                    list\n",
      "     3011043       16.39         0.765         20.43         28.85        (2, 3, 640, 640)                    list\n",
      "     3011043       32.78         1.118         30.06         64.97        (4, 3, 640, 640)                    list\n",
      "     3011043       65.55         1.774         39.62          35.2        (8, 3, 640, 640)                    list\n",
      "     3011043       131.1         3.142          36.6         50.03       (16, 3, 640, 640)                    list\n",
      "\u001b[34m\u001b[1mAutoBatch: \u001b[0mUsing batch-size 26 for CUDA:0 5.26G/7.78G (68%) ✅\n",
      "\u001b[34m\u001b[1mtrain: \u001b[0mFast image access ✅ (ping: 0.0±0.0 ms, read: 1487.2±257.2 MB/s, size: 92.5 KB)\n"
     ]
    },
    {
     "name": "stderr",
     "output_type": "stream",
     "text": [
      "\u001b[34m\u001b[1mtrain: \u001b[0mScanning /home/jovyan/work/PDD-JonathanGonzalez/TFG_TreeTopDetector_V2/TreeCountingDataset/train/labels.cache... 64 images, 0 backgrounds, 0 corrupt: 100%|██████████| 64/64 [00:00<?, ?it/s]\n"
     ]
    },
    {
     "name": "stdout",
     "output_type": "stream",
     "text": [
      "\u001b[34m\u001b[1mval: \u001b[0mFast image access ✅ (ping: 0.0±0.0 ms, read: 630.2±224.7 MB/s, size: 91.5 KB)\n"
     ]
    },
    {
     "name": "stderr",
     "output_type": "stream",
     "text": [
      "\u001b[34m\u001b[1mval: \u001b[0mScanning /home/jovyan/work/PDD-JonathanGonzalez/TFG_TreeTopDetector_V2/TreeCountingDataset/valid/labels.cache... 18 images, 0 backgrounds, 0 corrupt: 100%|██████████| 18/18 [00:00<?, ?it/s]\n"
     ]
    },
    {
     "name": "stdout",
     "output_type": "stream",
     "text": [
      "Plotting labels to runs/detect/train2/labels.jpg... \n",
      "\u001b[34m\u001b[1moptimizer:\u001b[0m 'optimizer=auto' found, ignoring 'lr0=0.01' and 'momentum=0.937' and determining best 'optimizer', 'lr0' and 'momentum' automatically... \n",
      "\u001b[34m\u001b[1moptimizer:\u001b[0m AdamW(lr=0.002, momentum=0.9) with parameter groups 57 weight(decay=0.0), 64 weight(decay=0.00040625000000000004), 63 bias(decay=0.0)\n",
      "Image sizes 640 train, 640 val\n",
      "Using 1 dataloader workers\n",
      "Logging results to \u001b[1mruns/detect/train2\u001b[0m\n",
      "Starting training for 20 epochs...\n",
      "\n",
      "      Epoch    GPU_mem   box_loss   cls_loss   dfl_loss  Instances       Size\n"
     ]
    },
    {
     "name": "stderr",
     "output_type": "stream",
     "text": [
      "       1/20      4.95G       5.72      3.682      4.216       1555        640: 100%|██████████| 3/3 [00:01<00:00,  1.76it/s]\n",
      "                 Class     Images  Instances      Box(P          R      mAP50  mAP50-95): 100%|██████████| 1/1 [00:00<00:00,  2.01it/s]"
     ]
    },
    {
     "name": "stdout",
     "output_type": "stream",
     "text": [
      "                   all         18       1524          0          0          0          0\n"
     ]
    },
    {
     "name": "stderr",
     "output_type": "stream",
     "text": [
      "\n"
     ]
    },
    {
     "name": "stdout",
     "output_type": "stream",
     "text": [
      "\n",
      "      Epoch    GPU_mem   box_loss   cls_loss   dfl_loss  Instances       Size\n"
     ]
    },
    {
     "name": "stderr",
     "output_type": "stream",
     "text": [
      "       2/20      6.72G       5.56      3.674      4.218       1730        640: 100%|██████████| 3/3 [00:00<00:00,  4.55it/s]\n"
     ]
    }
   ],
   "source": [
    "model.train(\n",
    "    data = os.path.join(os.getcwd(), \"TreeCountingDataset/data.yaml\"),\n",
    "    epochs = 20,\n",
    "    batch = 0.7, \n",
    "    plots = True, \n",
    "    overlap_mask = True,\n",
    "    workers=1,\n",
    "    #augmentation parameters\n",
    "    hsv_h = 0.2,\n",
    "    hsv_s = 0.2,\n",
    "    hsv_v = 0.2,\n",
    "    degrees = 0,\n",
    "    translate = 0.2,\n",
    "    scale = 0.5,\n",
    "    shear= 0,\n",
    "    perspective =0,\n",
    "    flipud = 0.2,\n",
    "    fliplr = 0.2,\n",
    "    bgr = 0.5,\n",
    "    mosaic = 0.5,\n",
    "    mixup = 0.5,\n",
    "    copy_paste = 0.2,\n",
    "    erasing = 0.4,\n",
    "    crop_fraction = 1\n",
    "    )\n",
    "\n",
    "metrics = model.val()  # evaluate model performance on the validation set\n",
    "path = model.export(format=\"onnx\")  # export the model to ONNX format"
   ]
  },
  {
   "cell_type": "code",
   "execution_count": null,
   "id": "644c3f49-0daf-499d-92e4-0331e30bc19e",
   "metadata": {},
   "outputs": [],
   "source": []
  }
 ],
 "metadata": {
  "kernelspec": {
   "display_name": "Python 3 (ipykernel)",
   "language": "python",
   "name": "python3"
  },
  "language_info": {
   "codemirror_mode": {
    "name": "ipython",
    "version": 3
   },
   "file_extension": ".py",
   "mimetype": "text/x-python",
   "name": "python",
   "nbconvert_exporter": "python",
   "pygments_lexer": "ipython3",
   "version": "3.11.8"
  }
 },
 "nbformat": 4,
 "nbformat_minor": 5
}
